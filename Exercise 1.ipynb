{
 "cells": [
  {
   "cell_type": "markdown",
   "id": "4127df24",
   "metadata": {},
   "source": [
    "# What is the output of the following print statements?\n",
    "\n",
    "print(\"\\ta\\tb\\tc\") print(\"\\\\\\\\\")\n",
    "\n",
    "print(\"'\")\n",
    "\n",
    "print(\"\\\"\\\"\\\"\")\n",
    "\n",
    "print(\"C:\\nin\\the downward spiral\")"
   ]
  },
  {
   "cell_type": "code",
   "execution_count": 4,
   "id": "ecea6feb",
   "metadata": {
    "scrolled": true
   },
   "outputs": [
    {
     "name": "stdout",
     "output_type": "stream",
     "text": [
      "\ta\tb\tc\n"
     ]
    }
   ],
   "source": [
    "print(\"\\ta\\tb\\tc\")"
   ]
  },
  {
   "cell_type": "code",
   "execution_count": 5,
   "id": "d6364cc5",
   "metadata": {},
   "outputs": [
    {
     "name": "stdout",
     "output_type": "stream",
     "text": [
      "\\\\\n"
     ]
    }
   ],
   "source": [
    "print(\"\\\\\\\\\")\n"
   ]
  },
  {
   "cell_type": "code",
   "execution_count": 3,
   "id": "38da083d",
   "metadata": {},
   "outputs": [
    {
     "name": "stdout",
     "output_type": "stream",
     "text": [
      "'\n"
     ]
    }
   ],
   "source": [
    "print(\"'\")"
   ]
  },
  {
   "cell_type": "code",
   "execution_count": 6,
   "id": "859c288b",
   "metadata": {},
   "outputs": [
    {
     "name": "stdout",
     "output_type": "stream",
     "text": [
      "\"\"\"\n"
     ]
    }
   ],
   "source": [
    "print(\"\\\"\\\"\\\"\")"
   ]
  },
  {
   "cell_type": "code",
   "execution_count": 19,
   "id": "09f8ddc9",
   "metadata": {},
   "outputs": [
    {
     "name": "stdout",
     "output_type": "stream",
     "text": [
      "C:\n",
      "in\the downward spiral\n"
     ]
    }
   ],
   "source": [
    "print(\"C:\\nin\\the downward spiral\")"
   ]
  },
  {
   "cell_type": "markdown",
   "id": "f0f40198",
   "metadata": {},
   "source": [
    "# Write a print statement to produce this output:\n",
    "\n",
    "/ \\ // \\\\ /// \\\\\\"
   ]
  },
  {
   "cell_type": "code",
   "execution_count": 17,
   "id": "14551adf",
   "metadata": {},
   "outputs": [
    {
     "name": "stdout",
     "output_type": "stream",
     "text": [
      "/ \\ // \\\\ /// \\\\\\\n"
     ]
    }
   ],
   "source": [
    "print(\"/ \\\\\", \"// \\\\\\\\\", \"/// \\\\\\\\\\\\\")\n"
   ]
  },
  {
   "cell_type": "markdown",
   "id": "c02d2656",
   "metadata": {},
   "source": [
    "# What print statements will generate this output?\n",
    "\n",
    "This quote is from \n",
    "\n",
    "Irish poet Oscar Wilde:\n",
    "\n",
    "\"Music makes one feel so romantic\n",
    "\n",
    "- at least it always gets on one's nerves – \n",
    "\n",
    "which is the same thing nowadays.\""
   ]
  },
  {
   "cell_type": "code",
   "execution_count": 20,
   "id": "ed46a9aa",
   "metadata": {},
   "outputs": [
    {
     "name": "stdout",
     "output_type": "stream",
     "text": [
      "This quote is from\n",
      "Irish poet Oscar Wilde:\n",
      "\n",
      "\"Music makes one feel so romantic\n",
      "- at least it always gets on one's nerves –\n",
      "which is the same thing nowadays.\"\n"
     ]
    }
   ],
   "source": [
    "print(\"This quote is from\")\n",
    "print(\"Irish poet Oscar Wilde:\")\n",
    "print()\n",
    "print(\"\\\"Music makes one feel so romantic\")\n",
    "print(\"- at least it always gets on one's nerves –\")\n",
    "print(\"which is the same thing nowadays.\\\"\")\n"
   ]
  },
  {
   "cell_type": "markdown",
   "id": "52ea7fe8",
   "metadata": {},
   "source": [
    "# What print statements will generate this output?\n",
    "\n",
    "A \"quoted\" String is \n",
    "\n",
    "'much' better if you learn\n",
    "\n",
    "the rules of \"escape sequences.\" \n",
    "\n",
    "Also, \"\" represents an empty String. \n",
    "\n",
    "Don't forget: use \\\" instead of \" ! \n",
    "\n",
    "'' is not the same as \""
   ]
  },
  {
   "cell_type": "code",
   "execution_count": 21,
   "id": "e591432e",
   "metadata": {},
   "outputs": [
    {
     "name": "stdout",
     "output_type": "stream",
     "text": [
      "A \"quoted\" String is\n",
      "'much' better if you learn\n",
      "the rules of \"escape sequences.\"\n",
      "Also, \"\" represents an empty String.\n",
      "Don't forget: use \\\" instead of \" !\n",
      "'' is not the same as \"\n"
     ]
    }
   ],
   "source": [
    "print(\"A \\\"quoted\\\" String is\")\n",
    "print(\"'much' better if you learn\")\n",
    "print(\"the rules of \\\"escape sequences.\\\"\")\n",
    "print(\"Also, \\\"\\\" represents an empty String.\")\n",
    "print(\"Don't forget: use \\\\\\\" instead of \\\" !\")\n",
    "print(\"'' is not the same as \\\"\")\n"
   ]
  },
  {
   "cell_type": "markdown",
   "id": "73d7309a",
   "metadata": {},
   "source": [
    "# What values result from the following expressions?\n",
    "\n",
    "– 9 / 5\n",
    "\n",
    "– 695 % 20\n",
    "\n",
    "– 7 + 6 * 5\n",
    "\n",
    "– 7 * 6 + 5\n",
    "\n",
    "– 248 % 100 / 5\n",
    "\n",
    "– 6 * 3 - 9 / 4\n",
    "\n",
    "– (5 - 7) * 4\n",
    "\n",
    "– 6 + (18 % (17 - 12))"
   ]
  },
  {
   "cell_type": "code",
   "execution_count": 22,
   "id": "3fa711b2",
   "metadata": {},
   "outputs": [
    {
     "data": {
      "text/plain": [
       "1.8"
      ]
     },
     "execution_count": 22,
     "metadata": {},
     "output_type": "execute_result"
    }
   ],
   "source": [
    "9 / 5"
   ]
  },
  {
   "cell_type": "code",
   "execution_count": 23,
   "id": "97227038",
   "metadata": {},
   "outputs": [
    {
     "data": {
      "text/plain": [
       "15"
      ]
     },
     "execution_count": 23,
     "metadata": {},
     "output_type": "execute_result"
    }
   ],
   "source": [
    "695 % 20"
   ]
  },
  {
   "cell_type": "code",
   "execution_count": 24,
   "id": "fb934073",
   "metadata": {},
   "outputs": [
    {
     "data": {
      "text/plain": [
       "37"
      ]
     },
     "execution_count": 24,
     "metadata": {},
     "output_type": "execute_result"
    }
   ],
   "source": [
    "7 + 6 * 5"
   ]
  },
  {
   "cell_type": "code",
   "execution_count": 25,
   "id": "34d5f773",
   "metadata": {},
   "outputs": [
    {
     "data": {
      "text/plain": [
       "47"
      ]
     },
     "execution_count": 25,
     "metadata": {},
     "output_type": "execute_result"
    }
   ],
   "source": [
    "7 * 6 + 5"
   ]
  },
  {
   "cell_type": "code",
   "execution_count": 26,
   "id": "8912be0a",
   "metadata": {},
   "outputs": [
    {
     "data": {
      "text/plain": [
       "9.6"
      ]
     },
     "execution_count": 26,
     "metadata": {},
     "output_type": "execute_result"
    }
   ],
   "source": [
    "248 % 100 / 5"
   ]
  },
  {
   "cell_type": "code",
   "execution_count": 27,
   "id": "1143f40f",
   "metadata": {},
   "outputs": [
    {
     "data": {
      "text/plain": [
       "15.75"
      ]
     },
     "execution_count": 27,
     "metadata": {},
     "output_type": "execute_result"
    }
   ],
   "source": [
    "6 * 3 - 9 / 4"
   ]
  },
  {
   "cell_type": "code",
   "execution_count": 28,
   "id": "771b3f5e",
   "metadata": {},
   "outputs": [
    {
     "data": {
      "text/plain": [
       "-8"
      ]
     },
     "execution_count": 28,
     "metadata": {},
     "output_type": "execute_result"
    }
   ],
   "source": [
    "(5 - 7) * 4"
   ]
  },
  {
   "cell_type": "code",
   "execution_count": 29,
   "id": "0430fc05",
   "metadata": {},
   "outputs": [
    {
     "data": {
      "text/plain": [
       "9"
      ]
     },
     "execution_count": 29,
     "metadata": {},
     "output_type": "execute_result"
    }
   ],
   "source": [
    "6 + (18 % (17 - 12))"
   ]
  },
  {
   "cell_type": "code",
   "execution_count": null,
   "id": "d8a3df4c",
   "metadata": {},
   "outputs": [],
   "source": []
  }
 ],
 "metadata": {
  "kernelspec": {
   "display_name": "Python 3 (ipykernel)",
   "language": "python",
   "name": "python3"
  },
  "language_info": {
   "codemirror_mode": {
    "name": "ipython",
    "version": 3
   },
   "file_extension": ".py",
   "mimetype": "text/x-python",
   "name": "python",
   "nbconvert_exporter": "python",
   "pygments_lexer": "ipython3",
   "version": "3.11.5"
  }
 },
 "nbformat": 4,
 "nbformat_minor": 5
}

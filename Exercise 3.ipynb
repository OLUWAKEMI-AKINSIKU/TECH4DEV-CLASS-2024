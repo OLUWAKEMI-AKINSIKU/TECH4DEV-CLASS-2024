{
 "cells": [
  {
   "cell_type": "markdown",
   "id": "2647f729",
   "metadata": {},
   "source": [
    "# Write a program that finds the maximum value of the given list, assuming that the list contains at least one element. Try your program with the following array\n",
    "2 4 7 4 23 5 1 4 8 9"
   ]
  },
  {
   "cell_type": "code",
   "execution_count": 1,
   "id": "b1ab0ad6",
   "metadata": {},
   "outputs": [
    {
     "name": "stdout",
     "output_type": "stream",
     "text": [
      "The maximum value is 23\n"
     ]
    }
   ],
   "source": [
    "# Define a list of numbers\n",
    "numbers = [2, 4, 7, 4, 23, 5, 1, 4, 8, 9]\n",
    "\n",
    "# Find the maximum value using max() function\n",
    "max_value = max(numbers)\n",
    "\n",
    "# Print the result\n",
    "print(\"The maximum value is\", max_value)\n"
   ]
  },
  {
   "cell_type": "markdown",
   "id": "368e3258",
   "metadata": {},
   "source": [
    "# Write a program that calculates the average value of the given list.Try your program with the following list\n",
    "4 7 1 5 11 53 12 46 84 23"
   ]
  },
  {
   "cell_type": "code",
   "execution_count": 2,
   "id": "a04f54c5",
   "metadata": {},
   "outputs": [
    {
     "name": "stdout",
     "output_type": "stream",
     "text": [
      "The average value is 24.6\n"
     ]
    }
   ],
   "source": [
    "# Define a list of numbers\n",
    "numbers = [4, 7, 1, 5, 11, 53, 12, 46, 84, 23]\n",
    "\n",
    "# Calculate the sum and the length of the list\n",
    "total = sum(numbers)\n",
    "count = len(numbers)\n",
    "\n",
    "# Calculate the average value\n",
    "average = total / count\n",
    "\n",
    "# Print the result\n",
    "print(\"The average value is\", average)\n"
   ]
  },
  {
   "cell_type": "markdown",
   "id": "0e180886",
   "metadata": {},
   "source": [
    "# Write a program that prints the given list of integers in reverse order. Try your program with the following list\n",
    "2 6 7 45 23 53 14 45 89 5"
   ]
  },
  {
   "cell_type": "code",
   "execution_count": 3,
   "id": "792cfa37",
   "metadata": {},
   "outputs": [
    {
     "name": "stdout",
     "output_type": "stream",
     "text": [
      "[5, 89, 45, 14, 53, 23, 45, 7, 6, 2]\n"
     ]
    }
   ],
   "source": [
    "# Define a list of integers\n",
    "numbers = [2, 6, 7, 45, 23, 53, 14, 45, 89, 5]\n",
    "\n",
    "# Print the list in reverse order using slicing\n",
    "print(numbers[::-1])\n"
   ]
  },
  {
   "cell_type": "markdown",
   "id": "c4b96003",
   "metadata": {},
   "source": [
    "# Write a program that accepts two lists of integers and prints true if each element in the first list is less than the element at the same index in the second list. Your program should print false if the lists are not the same length"
   ]
  },
  {
   "cell_type": "code",
   "execution_count": 4,
   "id": "54a405a0",
   "metadata": {},
   "outputs": [
    {
     "name": "stdout",
     "output_type": "stream",
     "text": [
      "False\n"
     ]
    }
   ],
   "source": [
    "# Define two lists of integers\n",
    "list1 = [2, 6, 7, 45, 23, 53, 14, 45, 89, 5]\n",
    "list2 = [4, 7, 1, 5, 11, 53, 12, 46, 84, 23]\n",
    "\n",
    "# Check if the lists have the same length\n",
    "if len(list1) == len(list2):\n",
    "  # Initialize a variable to store the result\n",
    "  result = True\n",
    "  # Loop through the lists and compare the elements\n",
    "  for i in range(len(list1)):\n",
    "    # If an element in list1 is not less than the corresponding element in list2\n",
    "    if not list1[i] < list2[i]:\n",
    "      # Set the result to False and break the loop\n",
    "      result = False\n",
    "      break\n",
    "  # Print the result\n",
    "  print(result)\n",
    "else:\n",
    "  # Print False if the lists are not the same length\n",
    "  print(False)\n"
   ]
  },
  {
   "cell_type": "markdown",
   "id": "212c9f1f",
   "metadata": {},
   "source": [
    "# Write a program that accepts a list of integers and two indexes and swaps the elements at those indexes"
   ]
  },
  {
   "cell_type": "code",
   "execution_count": 5,
   "id": "09ef9456",
   "metadata": {},
   "outputs": [
    {
     "name": "stdout",
     "output_type": "stream",
     "text": [
      "[2, 6, 7, 45, 23, 53, 14, 45, 89, 5]\n"
     ]
    }
   ],
   "source": [
    "# Define a function that swaps two elements in a list\n",
    "def swap_elements(lst, i, j):\n",
    "  # Use multiple assignment to swap the values\n",
    "  lst[i], lst[j] = lst[j], lst[i]\n",
    "  # Return the modified list\n",
    "  return lst\n",
    "\n",
    "# Define a list of integers\n",
    "numbers = [2, 6, 7, 45, 23, 53, 14, 45, 89, 5]\n",
    "\n",
    "# Define the indexes to swap\n",
    "index1 = 3\n",
    "index2 = 7\n",
    "\n",
    "# Call the function and print the result\n",
    "print(swap_elements(numbers, index1, index2))\n"
   ]
  },
  {
   "cell_type": "markdown",
   "id": "69851558",
   "metadata": {},
   "source": [
    "# Write a program that accepts two lists of integers and prints a new list containing all elements of the first list followed by all elements of the second."
   ]
  },
  {
   "cell_type": "code",
   "execution_count": 1,
   "id": "bb0758e8",
   "metadata": {},
   "outputs": [
    {
     "name": "stdout",
     "output_type": "stream",
     "text": [
      "The new list is [2, 6, 7, 45, 23, 53, 14, 45, 89, 5, 4, 7, 1, 5, 11, 53, 12, 46, 84, 23]\n"
     ]
    }
   ],
   "source": [
    "# Define two lists of integers\n",
    "list1 = [2, 6, 7, 45, 23, 53, 14, 45, 89, 5]\n",
    "list2 = [4, 7, 1, 5, 11, 53, 12, 46, 84, 23]\n",
    "\n",
    "# Concatenate the lists using the + operator\n",
    "new_list = list1 + list2\n",
    "\n",
    "# Print the result\n",
    "print(\"The new list is\", new_list)\n"
   ]
  },
  {
   "cell_type": "markdown",
   "id": "71863621",
   "metadata": {},
   "source": [
    "# Write a program that accepts a list of integers and an integer value as its parameters and prints the last index at which the value occurs in the list. The program should print –1 if the value is not found. For example, in the list [74, 85, 102, 99, 101, 85, 56], the last index of the value 85 is 5. "
   ]
  },
  {
   "cell_type": "code",
   "execution_count": 7,
   "id": "77a0c010",
   "metadata": {},
   "outputs": [
    {
     "name": "stdout",
     "output_type": "stream",
     "text": [
      "5\n"
     ]
    }
   ],
   "source": [
    "# Define a function that takes a list of integers and an integer value as parameters\n",
    "def last_index(lst, val):\n",
    "  # Initialize the last index to -1\n",
    "  last = -1\n",
    "  # Loop through the list from left to right\n",
    "  for i in range(len(lst)):\n",
    "    # If the current element is equal to the value, update the last index\n",
    "    if lst[i] == val:\n",
    "      last = i\n",
    "  # Return the last index\n",
    "  return last\n",
    "\n",
    "# Test the function with an example\n",
    "lst = [74, 85, 102, 99, 101, 85, 56]\n",
    "val = 85\n",
    "print(last_index(lst, val)) "
   ]
  },
  {
   "cell_type": "markdown",
   "id": "ab958a82",
   "metadata": {},
   "source": [
    "# Write a program that prints the range of values in a list of integers. The range is defined as 1 more than the difference between the maximum and minimum values in the list. For example, if a list contains the values [36, 12, 25, 19, 46, 31, 22], the program should return 35. You may assume that the list has at least one element"
   ]
  },
  {
   "cell_type": "code",
   "execution_count": 8,
   "id": "d15d0ff9",
   "metadata": {},
   "outputs": [
    {
     "name": "stdout",
     "output_type": "stream",
     "text": [
      "35\n"
     ]
    }
   ],
   "source": [
    "# Define a function that takes a list of integers as a parameter\n",
    "def range_of_values(lst):\n",
    "  # Find the maximum and minimum values in the list\n",
    "  max_value = max(lst)\n",
    "  min_value = min(lst)\n",
    "  # Calculate the range as 1 more than the difference\n",
    "  range_value = max_value - min_value + 1\n",
    "  # Print the range\n",
    "  print(range_value)\n",
    "\n",
    "# Test the function with an example list\n",
    "example_list = [36, 12, 25, 19, 46, 31, 22]\n",
    "range_of_values(example_list)\n"
   ]
  },
  {
   "cell_type": "markdown",
   "id": "e7ecd650",
   "metadata": {},
   "source": [
    "# Write a program that accepts a list of integers, a minimum value, and a maximum value and prints the count of how many elements from the list fall between the minimum and maximum (inclusive). For example, in the list [14, 1, 22, 17, 36, 7, -43, 5], for minimum value 4 and maximum value 17, there are four elements whose values fall between 4 and 17."
   ]
  },
  {
   "cell_type": "code",
   "execution_count": 9,
   "id": "49e82ad0",
   "metadata": {},
   "outputs": [
    {
     "name": "stdout",
     "output_type": "stream",
     "text": [
      "4\n"
     ]
    }
   ],
   "source": [
    "# Define a function that takes a list of integers, a minimum value, and a maximum value as parameters\n",
    "def count_between(lst, min_value, max_value):\n",
    "  # Initialize a variable to store the count\n",
    "  count = 0\n",
    "  # Loop through each element in the list\n",
    "  for element in lst:\n",
    "    # Check if the element is between the minimum and maximum values (inclusive)\n",
    "    if min_value <= element <= max_value:\n",
    "      # Increment the count by 1\n",
    "      count += 1\n",
    "  # Print the count\n",
    "  print(count)\n",
    "\n",
    "# Test the function with an example list, minimum value, and maximum value\n",
    "example_list = [14, 1, 22, 17, 36, 7, -43, 5]\n",
    "example_min = 4\n",
    "example_max = 17\n",
    "count_between(example_list, example_min, example_max)\n"
   ]
  },
  {
   "cell_type": "markdown",
   "id": "5c3c49c4",
   "metadata": {},
   "source": [
    "# Write a program that accepts a list of real numbers and prints true if the list is in sorted (nondecreasing) order and false otherwise. For example, if lists named list1 and list2 store [16.1, 12.3, 22.2, 14.4] and [1.5, 4.3, 7.0, 19.5, 25.1, 46.2] respectively, the program should print false for list1 and true for list2 respectively. Assume the list has at least one element. A one-element list is sorted"
   ]
  },
  {
   "cell_type": "code",
   "execution_count": 10,
   "id": "dbd77292",
   "metadata": {},
   "outputs": [
    {
     "name": "stdout",
     "output_type": "stream",
     "text": [
      "False\n",
      "True\n"
     ]
    }
   ],
   "source": [
    "# Define a function that takes a list of real numbers as a parameter\n",
    "def is_sorted(lst):\n",
    "  # Loop through each index in the list, except the last one\n",
    "  for i in range(len(lst) - 1):\n",
    "    # Check if the current element is greater than the next element\n",
    "    if lst[i] > lst[i + 1]:\n",
    "      # Return false and exit the function\n",
    "      return False\n",
    "  # If the loop completes without returning false, the list is sorted\n",
    "  return True\n",
    "\n",
    "# Test the function with two example lists\n",
    "list1 = [16.1, 12.3, 22.2, 14.4]\n",
    "list2 = [1.5, 4.3, 7.0, 19.5, 25.1, 46.2]\n",
    "print(is_sorted(list1))\n",
    "print(is_sorted(list2))\n"
   ]
  }
 ],
 "metadata": {
  "kernelspec": {
   "display_name": "Python 3 (ipykernel)",
   "language": "python",
   "name": "python3"
  },
  "language_info": {
   "codemirror_mode": {
    "name": "ipython",
    "version": 3
   },
   "file_extension": ".py",
   "mimetype": "text/x-python",
   "name": "python",
   "nbconvert_exporter": "python",
   "pygments_lexer": "ipython3",
   "version": "3.11.5"
  }
 },
 "nbformat": 4,
 "nbformat_minor": 5
}

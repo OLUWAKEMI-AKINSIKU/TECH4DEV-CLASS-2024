{
 "cells": [
  {
   "cell_type": "markdown",
   "id": "c39f066f",
   "metadata": {},
   "source": [
    "# Write atleast 20 methods in list, tuples, dictionaries and give an example writing a python code\n",
    "\n",
    "20 methods in list;\n",
    "1. append(x) adds an item x to the end of the list.\n",
    "2. insert(i, x) inserts an item x at a given position i.\n",
    "3. extend(iterable) adds all the items from another iterable (such as a list, a string, etc.) to the end of the list.\n",
    "4. remove(x) removes the first item from the list whose value is equal to x.\n",
    "5. pop(i) removes and returns the item at the position i. If i is not given, it removes and returns the last item in the list.\n",
    "6. reverse() reverses the order of the items in the list in place.\n",
    "7. sort(key=None, reverse=False) sorts the items of the list in place. The key parameter can be used to specify a function that returns a value to compare for sorting. The reverse parameter can be used to sort the list in descending order.\n",
    "8. count(x) returns the number of times x appears in the list.\n",
    "9. index(x, start, end) returns the index of the first item whose value is equal to x. The start and end parameters can be used to limit the search to a subsequence of the list.\n",
    "10. clear() removes all the items from the list.\n",
    "11. copy() returns a shallow copy of the list.\n",
    "12. __len__() returns the length of the list.\n",
    "13. __getitem__(i) returns the item at the position i.\n",
    "14. __setitem__(i, x) sets the item at the position i to a new value x.\n",
    "15. __delitem__(i) deletes the item at the position i.\n",
    "16. __contains__(x) returns True if the list contains x, False otherwise.\n",
    "17. __add__(other) returns a new list by concatenating the list with another iterable other.\n",
    "18. __mul__(n) returns a new list by repeating the list n times.\n",
    "19. __reversed__() returns a reverse iterator over the list.\n",
    "20. __repr__() returns a string representation of the list.\n"
   ]
  },
  {
   "cell_type": "code",
   "execution_count": null,
   "id": "38496232",
   "metadata": {},
   "outputs": [],
   "source": [
    "#Python code example for list methods"
   ]
  },
  {
   "cell_type": "code",
   "execution_count": 1,
   "id": "e72c5bc5",
   "metadata": {},
   "outputs": [
    {
     "name": "stdout",
     "output_type": "stream",
     "text": [
      "[1, 2, 3, 4, 5]\n"
     ]
    }
   ],
   "source": [
    "\n",
    "my_list = [1, 2, 3, 4, 5] \n",
    "# create a list\n",
    "print(my_list)"
   ]
  },
  {
   "cell_type": "code",
   "execution_count": 2,
   "id": "c6eba180",
   "metadata": {},
   "outputs": [
    {
     "name": "stdout",
     "output_type": "stream",
     "text": [
      "[1, 2, 3, 4, 5, 6]\n"
     ]
    }
   ],
   "source": [
    "# append(x)\n",
    "my_list.append(6) \n",
    "# add 6 to the end of the list\n",
    "print(my_list) "
   ]
  },
  {
   "cell_type": "code",
   "execution_count": 3,
   "id": "a0fd610c",
   "metadata": {},
   "outputs": [
    {
     "name": "stdout",
     "output_type": "stream",
     "text": [
      "[0, 1, 2, 3, 4, 5, 6]\n"
     ]
    }
   ],
   "source": [
    "# insert(i, x)\n",
    "my_list.insert(0, 0) \n",
    "# insert 0 at the position 0\n",
    "print(my_list) \n"
   ]
  },
  {
   "cell_type": "code",
   "execution_count": 4,
   "id": "777fb068",
   "metadata": {},
   "outputs": [
    {
     "name": "stdout",
     "output_type": "stream",
     "text": [
      "[0, 1, 2, 3, 4, 5, 6, 7, 8, 9]\n"
     ]
    }
   ],
   "source": [
    "# extend(iterable)\n",
    "my_list.extend([7, 8, 9]) \n",
    "# add 7, 8, 9 to the end of the list\n",
    "print(my_list) \n"
   ]
  },
  {
   "cell_type": "code",
   "execution_count": 2,
   "id": "7436c75b",
   "metadata": {},
   "outputs": [
    {
     "name": "stdout",
     "output_type": "stream",
     "text": [
      "[1, 2, 3, 4, 5]\n"
     ]
    }
   ],
   "source": [
    "# remove(x)\n",
    "my_list = [0,1,2,3,4,5]\n",
    "my_list.remove(0) \n",
    "# remove the first occurrence of 0\n",
    "print(my_list) \n"
   ]
  },
  {
   "cell_type": "code",
   "execution_count": 7,
   "id": "31c32a3d",
   "metadata": {},
   "outputs": [
    {
     "name": "stdout",
     "output_type": "stream",
     "text": [
      "9\n",
      "[1, 2, 3, 4, 5, 6, 7, 8]\n"
     ]
    }
   ],
   "source": [
    "# pop(i)\n",
    "last_item = my_list.pop() \n",
    "# remove and return the last item\n",
    "print(last_item) # 9\n",
    "print(my_list) \n"
   ]
  },
  {
   "cell_type": "code",
   "execution_count": 8,
   "id": "794a5619",
   "metadata": {},
   "outputs": [
    {
     "name": "stdout",
     "output_type": "stream",
     "text": [
      "[8, 7, 6, 5, 4, 3, 2, 1]\n"
     ]
    }
   ],
   "source": [
    "# reverse()\n",
    "my_list.reverse() \n",
    "# reverse the order of the items\n",
    "print(my_list) "
   ]
  },
  {
   "cell_type": "code",
   "execution_count": 18,
   "id": "19161eeb",
   "metadata": {},
   "outputs": [
    {
     "name": "stdout",
     "output_type": "stream",
     "text": [
      "[2, 3, 4, 5, 6, 7, 8]\n",
      "[8, 7, 6, 5, 4, 3, 2]\n"
     ]
    }
   ],
   "source": [
    "# sort(key=None, reverse=False)\n",
    "my_list.sort() \n",
    "# sort the items in ascending order\n",
    "print(my_list) \n",
    "my_list.sort(reverse=True) \n",
    "# sort the items in descending order\n",
    "print(my_list) "
   ]
  },
  {
   "cell_type": "code",
   "execution_count": 19,
   "id": "17cf44c8",
   "metadata": {},
   "outputs": [
    {
     "name": "stdout",
     "output_type": "stream",
     "text": [
      "1\n"
     ]
    }
   ],
   "source": [
    "# count(x)\n",
    "num_twos = my_list.count(2) \n",
    "# count how many times 2 appears in the list\n",
    "print(num_twos) "
   ]
  },
  {
   "cell_type": "code",
   "execution_count": 11,
   "id": "cf3949ac",
   "metadata": {},
   "outputs": [
    {
     "name": "stdout",
     "output_type": "stream",
     "text": [
      "2\n",
      "2\n"
     ]
    }
   ],
   "source": [
    "# index(x, start, end)\n",
    "pos_three = my_list.index(3) \n",
    "# find the index of 3\n",
    "print(pos_three) \n",
    "pos_three = my_list.index(3, 0, 4)\n",
    "# find the index of 3 in the slice [0:4]\n",
    "print(pos_three) "
   ]
  },
  {
   "cell_type": "code",
   "execution_count": 21,
   "id": "341dc055",
   "metadata": {},
   "outputs": [
    {
     "name": "stdout",
     "output_type": "stream",
     "text": [
      "[]\n"
     ]
    }
   ],
   "source": [
    "# clear()\n",
    "my_list.clear() # remove all the items from the list\n",
    "print(my_list) \n"
   ]
  },
  {
   "cell_type": "code",
   "execution_count": 22,
   "id": "520d93a9",
   "metadata": {},
   "outputs": [
    {
     "name": "stdout",
     "output_type": "stream",
     "text": [
      "[1, 2, 3, 4, 5]\n",
      "[0, 2, 3, 4, 5]\n",
      "[1, 2, 3, 4, 5]\n"
     ]
    }
   ],
   "source": [
    "# copy()\n",
    "my_list = [1, 2, 3, 4, 5] \n",
    "# create a new list\n",
    "my_copy = my_list.copy() \n",
    "# make a copy of the list\n",
    "print(my_copy) \n",
    "my_copy[0] = 0 \n",
    "# modify the copy\n",
    "print(my_copy) \n",
    "print(my_list) "
   ]
  },
  {
   "cell_type": "code",
   "execution_count": 23,
   "id": "4367c452",
   "metadata": {},
   "outputs": [
    {
     "name": "stdout",
     "output_type": "stream",
     "text": [
      "5\n"
     ]
    }
   ],
   "source": [
    "# __len__()\n",
    "my_len = my_list.__len__() \n",
    "# get the length of the list\n",
    "print(my_len)"
   ]
  },
  {
   "cell_type": "code",
   "execution_count": 24,
   "id": "8bb092cd",
   "metadata": {},
   "outputs": [
    {
     "name": "stdout",
     "output_type": "stream",
     "text": [
      "3\n"
     ]
    }
   ],
   "source": [
    "# __getitem__(i)\n",
    "my_item = my_list.__getitem__(2) \n",
    "# get the item at the position 2\n",
    "print(my_item) # 3\n"
   ]
  },
  {
   "cell_type": "code",
   "execution_count": 25,
   "id": "83226ca7",
   "metadata": {},
   "outputs": [
    {
     "name": "stdout",
     "output_type": "stream",
     "text": [
      "[1, 2, 6, 4, 5]\n"
     ]
    }
   ],
   "source": [
    "# __setitem__(i, x)\n",
    "my_list.__setitem__(2, 6) \n",
    "# set the item at the position 2 to 6\n",
    "print(my_list) # [1, 2, 6, 4, 5]\n"
   ]
  },
  {
   "cell_type": "code",
   "execution_count": 26,
   "id": "48347a65",
   "metadata": {},
   "outputs": [
    {
     "name": "stdout",
     "output_type": "stream",
     "text": [
      "[1, 2, 4, 5]\n"
     ]
    }
   ],
   "source": [
    "# __delitem__(i)\n",
    "my_list.__delitem__(2) \n",
    "# delete the item at the position 2\n",
    "print(my_list) \n"
   ]
  },
  {
   "cell_type": "code",
   "execution_count": 28,
   "id": "037ee874",
   "metadata": {},
   "outputs": [
    {
     "name": "stdout",
     "output_type": "stream",
     "text": [
      "[1, 2, 4, 5, 6, 7, 8]\n"
     ]
    }
   ],
   "source": [
    "# __add__(other)\n",
    "my_new_list = my_list.__add__([6, 7, 8]) \n",
    "# create a new list by adding another list\n",
    "print(my_new_list) "
   ]
  },
  {
   "cell_type": "code",
   "execution_count": 29,
   "id": "bc4b42ad",
   "metadata": {},
   "outputs": [
    {
     "name": "stdout",
     "output_type": "stream",
     "text": [
      "[1, 2, 4, 5, 1, 2, 4, 5]\n"
     ]
    }
   ],
   "source": [
    "# __mul__(n)\n",
    "my_new_list = my_list.__mul__(2) \n",
    "# create a new list by repeating the list 2 times\n",
    "print(my_new_list) "
   ]
  },
  {
   "cell_type": "code",
   "execution_count": 30,
   "id": "e681147d",
   "metadata": {},
   "outputs": [
    {
     "name": "stdout",
     "output_type": "stream",
     "text": [
      "[5, 4, 2, 1]\n"
     ]
    }
   ],
   "source": [
    "# __reversed__()\n",
    "my_iter = my_list.__reversed__() \n",
    "# get a reverse iterator over the list\n",
    "print(list(my_iter)) \n"
   ]
  },
  {
   "cell_type": "code",
   "execution_count": 35,
   "id": "f1584700",
   "metadata": {},
   "outputs": [
    {
     "name": "stdout",
     "output_type": "stream",
     "text": [
      "[1, 2, 4, 5]\n"
     ]
    }
   ],
   "source": [
    "# __repr__()\n",
    "my_str = my_list.__repr__() \n",
    "# get a string representation of the list\n",
    "print(my_str) # '[1, 2, 4, 5]'"
   ]
  },
  {
   "cell_type": "code",
   "execution_count": null,
   "id": "440bed0c",
   "metadata": {},
   "outputs": [],
   "source": [
    "#20 methods in Tuple\n",
    "\n",
    "1. count(x) returns the number of times x appears in the tuple.\n",
    "2. index(x, start, end) returns the index of the first occurrence of x in the tuple. The start and end parameters can be used to limit the search to a subsequence of the tuple.\n",
    "3. __len__() returns the length of the tuple.\n",
    "4. __getitem__(i) returns the item at the position i.\n",
    "5. __contains__(x) returns True if the tuple contains x, False otherwise.\n",
    "6. __add__(other) returns a new tuple by concatenating the tuple with another iterable other.\n",
    "7. __mul__(n) returns a new tuple by repeating the tuple n times.\n",
    "8. __reversed__() returns a reverse iterator over the tuple.\n",
    "9. __repr__() returns a string representation of the tuple.\n",
    "10. __hash__() returns the hash value of the tuple.\n",
    "11. __eq__(other) returns True if the tuple is equal to other, False otherwise.\n",
    "12. __ne__(other) returns True if the tuple is not equal to other, False otherwise.\n",
    "13. __lt__(other) returns True if the tuple is less than other, False otherwise.\n",
    "14. __le__(other) returns True if the tuple is less than or equal to other, False otherwise.\n",
    "15. __gt__(other) returns True if the tuple is greater than other, False otherwise.\n",
    "16. __ge__(other) returns True if the tuple is greater than or equal to other, False otherwise.\n",
    "17. __iter__() returns an iterator over the tuple.\n",
    "18. __str__() returns a human-readable string representation of the tuple.\n",
    "19. __bool__() returns True if the tuple is not empty, False otherwise.\n",
    "20. __format__(format_spec) returns a formatted string representation of the tuple according to the format_spec."
   ]
  },
  {
   "cell_type": "code",
   "execution_count": 5,
   "id": "e93c0c6d",
   "metadata": {},
   "outputs": [
    {
     "name": "stdout",
     "output_type": "stream",
     "text": [
      "(1, 2, 3, 4, 5, 2, 3, 4)\n"
     ]
    }
   ],
   "source": [
    "# Tuple methods\n",
    "my_tuple = (1, 2, 3, 4, 5, 2, 3, 4) \n",
    "print(my_tuple)"
   ]
  },
  {
   "cell_type": "code",
   "execution_count": 6,
   "id": "79ff85a5",
   "metadata": {},
   "outputs": [
    {
     "name": "stdout",
     "output_type": "stream",
     "text": [
      "2\n"
     ]
    }
   ],
   "source": [
    "# count(x)\n",
    "num_twos = my_tuple.count(2) \n",
    "# count how many times 2 appears in the tuple\n",
    "print(num_twos)\n"
   ]
  },
  {
   "cell_type": "code",
   "execution_count": 9,
   "id": "feb63c8b",
   "metadata": {},
   "outputs": [
    {
     "name": "stdout",
     "output_type": "stream",
     "text": [
      "2\n",
      "6\n"
     ]
    }
   ],
   "source": [
    "# index(x, start, end)\n",
    "pos_three = my_tuple.index(3) \n",
    "# find the index of the first occurrence of 3\n",
    "print(pos_three) \n",
    "pos_three = my_tuple.index(3, 4, 8) \n",
    "# find the index of the first occurrence of 3 in the slice [4:8]\n",
    "print(pos_three)"
   ]
  },
  {
   "cell_type": "code",
   "execution_count": 12,
   "id": "a8027e22",
   "metadata": {},
   "outputs": [
    {
     "name": "stdout",
     "output_type": "stream",
     "text": [
      "8\n"
     ]
    }
   ],
   "source": [
    "# __len__()\n",
    "my_len = my_tuple.__len__() \n",
    "# get the length of the tuple\n",
    "print(my_len) \n",
    "\n"
   ]
  },
  {
   "cell_type": "code",
   "execution_count": 13,
   "id": "d458f590",
   "metadata": {},
   "outputs": [
    {
     "name": "stdout",
     "output_type": "stream",
     "text": [
      "3\n"
     ]
    }
   ],
   "source": [
    "# __getitem__(i)\n",
    "my_item = my_tuple.__getitem__(2) \n",
    "# get the item at the position 2\n",
    "print(my_item) \n"
   ]
  },
  {
   "cell_type": "code",
   "execution_count": 14,
   "id": "4f56c4ec",
   "metadata": {},
   "outputs": [
    {
     "name": "stdout",
     "output_type": "stream",
     "text": [
      "True\n"
     ]
    }
   ],
   "source": [
    "# __contains__(x)\n",
    "my_bool = my_tuple.__contains__(4) \n",
    "# check if the tuple contains 4\n",
    "print(my_bool) \n",
    "\n"
   ]
  },
  {
   "cell_type": "code",
   "execution_count": 15,
   "id": "52cabf98",
   "metadata": {},
   "outputs": [
    {
     "name": "stdout",
     "output_type": "stream",
     "text": [
      "(1, 2, 3, 4, 5, 2, 3, 4, 6, 7, 8)\n"
     ]
    }
   ],
   "source": [
    "# __add__(other)\n",
    "my_new_tuple = my_tuple.__add__((6, 7, 8)) \n",
    "# create a new tuple by adding another tuple\n",
    "print(my_new_tuple) # (1, 2, 3, 4, 5, 2, 3, 4, 6, 7, 8)"
   ]
  },
  {
   "cell_type": "code",
   "execution_count": 16,
   "id": "5e298bd1",
   "metadata": {},
   "outputs": [
    {
     "name": "stdout",
     "output_type": "stream",
     "text": [
      "(1, 2, 3, 4, 5, 2, 3, 4, 1, 2, 3, 4, 5, 2, 3, 4)\n"
     ]
    }
   ],
   "source": [
    "# __mul__(n)\n",
    "my_new_tuple = my_tuple.__mul__(2) \n",
    "# create a new tuple by repeating the tuple 2 times\n",
    "print(my_new_tuple) \n",
    "\n"
   ]
  },
  {
   "cell_type": "code",
   "execution_count": 24,
   "id": "a3364a9b",
   "metadata": {},
   "outputs": [
    {
     "name": "stdout",
     "output_type": "stream",
     "text": [
      "(1, 2, 3, 4, 5, 2, 3, 4)\n"
     ]
    }
   ],
   "source": [
    "# __repr__()\n",
    "my_str = my_tuple.__repr__() \n",
    "# get a string representation of the tuple\n",
    "print(my_str) \n"
   ]
  },
  {
   "cell_type": "code",
   "execution_count": 27,
   "id": "ef6826a4",
   "metadata": {},
   "outputs": [
    {
     "name": "stdout",
     "output_type": "stream",
     "text": [
      "7265720203838707462\n"
     ]
    }
   ],
   "source": [
    "# __hash__()\n",
    "my_hash = my_tuple.__hash__() \n",
    "# get the hash value of the tuple\n",
    "print(my_hash) # -763431964\n"
   ]
  },
  {
   "cell_type": "code",
   "execution_count": 28,
   "id": "842141ea",
   "metadata": {},
   "outputs": [
    {
     "name": "stdout",
     "output_type": "stream",
     "text": [
      "True\n"
     ]
    }
   ],
   "source": [
    "# __eq__(other)\n",
    "my_bool = my_tuple.__eq__((1, 2, 3, 4, 5, 2, 3, 4)) \n",
    "# check if the tuple is equal to another tuple\n",
    "print(my_bool) \n"
   ]
  },
  {
   "cell_type": "code",
   "execution_count": 29,
   "id": "b2734d43",
   "metadata": {},
   "outputs": [
    {
     "name": "stdout",
     "output_type": "stream",
     "text": [
      "True\n"
     ]
    }
   ],
   "source": [
    "# __ne__(other)\n",
    "my_bool = my_tuple.__ne__((1, 2, 3, 4, 5, 2, 3, 5)) \n",
    "# check if the tuple is not equal to another tuple\n",
    "print(my_bool) "
   ]
  },
  {
   "cell_type": "code",
   "execution_count": 30,
   "id": "abe28a32",
   "metadata": {},
   "outputs": [
    {
     "name": "stdout",
     "output_type": "stream",
     "text": [
      "True\n"
     ]
    }
   ],
   "source": [
    "# __lt__(other)\n",
    "my_bool = my_tuple.__lt__((1, 2, 3, 4, 5, 2, 3, 5)) \n",
    "# check if the tuple is less than another tuple\n",
    "print(my_bool) \n"
   ]
  },
  {
   "cell_type": "code",
   "execution_count": 31,
   "id": "0497b0c5",
   "metadata": {},
   "outputs": [
    {
     "name": "stdout",
     "output_type": "stream",
     "text": [
      "True\n"
     ]
    }
   ],
   "source": [
    "# __le__(other)\n",
    "my_bool = my_tuple.__le__((1, 2, 3, 4, 5, 2, 3, 4)) \n",
    "# check if the tuple is less than or equal to another tuple\n",
    "print(my_bool) "
   ]
  },
  {
   "cell_type": "code",
   "execution_count": 32,
   "id": "6a13fbdf",
   "metadata": {},
   "outputs": [
    {
     "name": "stdout",
     "output_type": "stream",
     "text": [
      "True\n"
     ]
    }
   ],
   "source": [
    "# __gt__(other)\n",
    "my_bool = my_tuple.__gt__((1, 2, 3, 4, 5, 2, 3, 3)) \n",
    "# check if the tuple is greater than another tuple\n",
    "print(my_bool) \n",
    "\n",
    "\n"
   ]
  },
  {
   "cell_type": "code",
   "execution_count": 33,
   "id": "088bc632",
   "metadata": {},
   "outputs": [
    {
     "name": "stdout",
     "output_type": "stream",
     "text": [
      "True\n"
     ]
    }
   ],
   "source": [
    "# __ge__(other)\n",
    "my_bool = my_tuple.__ge__((1, 2, 3, 4, 5, 2, 3, 4)) \n",
    "# check if the tuple is greater than or equal to another tuple\n",
    "print(my_bool)"
   ]
  },
  {
   "cell_type": "code",
   "execution_count": 34,
   "id": "8b62c0c2",
   "metadata": {},
   "outputs": [
    {
     "name": "stdout",
     "output_type": "stream",
     "text": [
      "[1, 2, 3, 4, 5, 2, 3, 4]\n"
     ]
    }
   ],
   "source": [
    "# __iter__()\n",
    "my_iter = my_tuple.__iter__() \n",
    "# get an iterator over the tuple\n",
    "print(list(my_iter)) \n"
   ]
  },
  {
   "cell_type": "code",
   "execution_count": 35,
   "id": "85d63b8e",
   "metadata": {},
   "outputs": [
    {
     "name": "stdout",
     "output_type": "stream",
     "text": [
      "(1, 2, 3, 4, 5, 2, 3, 4)\n"
     ]
    }
   ],
   "source": [
    "# __str__()\n",
    "my_str = my_tuple.__str__() \n",
    "# get a human-readable string representation of the tuple\n",
    "print(my_str) "
   ]
  },
  {
   "cell_type": "code",
   "execution_count": null,
   "id": "49c9817a",
   "metadata": {},
   "outputs": [],
   "source": [
    "20 methods in Dictionary\n",
    "1. clear() removes all the key-value pairs from the dictionary.\n",
    "2. copy() returns a shallow copy of the dictionary.\n",
    "3. fromkeys(seq, value) returns a new dictionary with keys from the sequence seq and values set to value.\n",
    "4. get(key, default) returns the value for the given key if it exists in the dictionary, otherwise returns the default value.\n",
    "5. items() returns a view object that contains the key-value pairs of the dictionary as tuples.\n",
    "6. keys() returns a view object that contains the keys of the dictionary.\n",
    "7. pop(key, default) removes and returns the value for the given key if it exists in the dictionary, otherwise returns the default value.\n",
    "8. popitem() removes and returns an arbitrary key-value pair from the dictionary.\n",
    "9. setdefault(key, default) returns the value for the given key if it exists in the dictionary, otherwise inserts the key with the default value and returns it.\n",
    "10. update(other) updates the dictionary with the key-value pairs from another dictionary or iterable.\n",
    "11. values() returns a view object that contains the values of the dictionary.\n",
    "12.n__len__() returns the number of key-value pairs in the dictionary.\n",
    "13. __getitem__(key) returns the value for the given key if it exists in the dictionary, otherwise raises a KeyError.\n",
    "14. __setitem__(key, value) assigns the value to the given key in the dictionary, or adds a new key-value pair if the key does not exist.\n",
    "15. __delitem__(key) deletes the key-value pair for the given key if it exists in the dictionary, otherwise raises a KeyError.\n",
    "16. __contains__(key) returns True if the dictionary contains the given key, False otherwise.\n",
    "17. __iter__() returns an iterator over the keys of the dictionary.\n",
    "18. __repr__() returns a string representation of the dictionary.\n",
    "19. __eq__(other) returns True if the dictionary iwsas equal to another dictionary, False otherwise.\n",
    "20. __hash__() returns the hash value of the dictionary if it is hashable, otherwise raises a TypeError."
   ]
  },
  {
   "cell_type": "code",
   "execution_count": 2,
   "id": "a467145f",
   "metadata": {},
   "outputs": [
    {
     "name": "stdout",
     "output_type": "stream",
     "text": [
      "{'name': 'Alice', 'age': 25, 'city': 'New York'}\n"
     ]
    }
   ],
   "source": [
    "# Dictionary methods\n",
    "my_dict = {\"name\": \"Alice\", \"age\": 25, \"city\": \"New York\"} \n",
    "# create a dictionary\n",
    "print(my_dict)"
   ]
  },
  {
   "cell_type": "code",
   "execution_count": 3,
   "id": "d956f3d7",
   "metadata": {},
   "outputs": [
    {
     "name": "stdout",
     "output_type": "stream",
     "text": [
      "{}\n"
     ]
    }
   ],
   "source": [
    "# clear()\n",
    "my_dict.clear() \n",
    "# remove all the key-value pairs from the dictionary\n",
    "print(my_dict) "
   ]
  },
  {
   "cell_type": "code",
   "execution_count": 5,
   "id": "1d88f0ae",
   "metadata": {},
   "outputs": [
    {
     "name": "stdout",
     "output_type": "stream",
     "text": [
      "{'name': 'Alice', 'age': 25, 'city': 'New York'}\n",
      "{'name': 'Bob', 'age': 25, 'city': 'New York'}\n",
      "{'name': 'Alice', 'age': 25, 'city': 'New York'}\n"
     ]
    }
   ],
   "source": [
    "# copy()\n",
    "my_dict = {\"name\": \"Alice\", \"age\": 25, \"city\": \"New York\"} \n",
    "# create a new dictionary\n",
    "my_copy = my_dict.copy() \n",
    "# make a copy of the dictionary\n",
    "print(my_copy) # {'name': 'Alice', 'age': 25, 'city': 'New York'}\n",
    "my_copy[\"name\"] = \"Bob\" \n",
    "# modify the copy\n",
    "print(my_copy) \n",
    "print(my_dict) "
   ]
  },
  {
   "cell_type": "code",
   "execution_count": 6,
   "id": "88243f6e",
   "metadata": {},
   "outputs": [
    {
     "name": "stdout",
     "output_type": "stream",
     "text": [
      "{'a': 0, 'b': 0, 'c': 0}\n"
     ]
    }
   ],
   "source": [
    "# fromkeys(seq, value)\n",
    "my_keys = [\"a\", \"b\", \"c\"] \n",
    "# create a sequence of keys\n",
    "my_value = 0 \n",
    "# create a value\n",
    "my_new_dict = dict.fromkeys(my_keys, my_value) \n",
    "# create a new dictionary with the specified keys and value\n",
    "print(my_new_dict) "
   ]
  },
  {
   "cell_type": "code",
   "execution_count": 7,
   "id": "930c7f34",
   "metadata": {},
   "outputs": [
    {
     "name": "stdout",
     "output_type": "stream",
     "text": [
      "Alice\n",
      "USA\n"
     ]
    }
   ],
   "source": [
    "# get(key, default)\n",
    "my_dict = {\"name\": \"Alice\", \"age\": 25, \"city\": \"New York\"} \n",
    "# create a dictionary\n",
    "my_name = my_dict.get(\"name\") \n",
    "# get the value for the key \"name\"\n",
    "print(my_name) \n",
    "my_country = my_dict.get(\"country\", \"USA\") \n",
    "# get the value for the key \"country\" or the default value \"USA\"\n",
    "print(my_country) "
   ]
  },
  {
   "cell_type": "code",
   "execution_count": 8,
   "id": "1f098fa1",
   "metadata": {},
   "outputs": [
    {
     "name": "stdout",
     "output_type": "stream",
     "text": [
      "dict_items([('name', 'Alice'), ('age', 25), ('city', 'New York')])\n",
      "name Alice\n",
      "age 25\n",
      "city New York\n"
     ]
    }
   ],
   "source": [
    "# items()\n",
    "my_dict = {\"name\": \"Alice\", \"age\": 25, \"city\": \"New York\"} \n",
    "# create a dictionary\n",
    "my_items = my_dict.items() \n",
    "# get a view object that contains the key-value pairs of the dictionary\n",
    "print(my_items) \n",
    "for key, value in my_items: # iterate over the key-value pairs\n",
    "    print(key, value)\n"
   ]
  },
  {
   "cell_type": "code",
   "execution_count": 9,
   "id": "9548c8e1",
   "metadata": {},
   "outputs": [
    {
     "name": "stdout",
     "output_type": "stream",
     "text": [
      "dict_keys(['name', 'age', 'city'])\n",
      "name\n",
      "age\n",
      "city\n"
     ]
    }
   ],
   "source": [
    "# keys()\n",
    "my_dict = {\"name\": \"Alice\", \"age\": 25, \"city\": \"New York\"} \n",
    "# create a dictionary\n",
    "my_keys = my_dict.keys() \n",
    "# get a view object that contains the keys of the dictionary\n",
    "print(my_keys) \n",
    "for key in my_keys: # iterate over the keys\n",
    "    print(key)\n"
   ]
  },
  {
   "cell_type": "code",
   "execution_count": 10,
   "id": "97defad3",
   "metadata": {},
   "outputs": [
    {
     "name": "stdout",
     "output_type": "stream",
     "text": [
      "25\n",
      "{'name': 'Alice', 'city': 'New York'}\n",
      "USA\n",
      "{'name': 'Alice', 'city': 'New York'}\n"
     ]
    }
   ],
   "source": [
    "# pop(key, default)\n",
    "my_dict = {\"name\": \"Alice\", \"age\": 25, \"city\": \"New York\"} \n",
    "# create a dictionary\n",
    "my_age = my_dict.pop(\"age\") \n",
    "# remove and return the value for the key \"age\"\n",
    "print(my_age) \n",
    "print(my_dict) \n",
    "my_country = my_dict.pop(\"country\", \"USA\") \n",
    "# remove and return the value for the key \"country\" or the default value \"USA\"\n",
    "print(my_country) \n",
    "print(my_dict) # {'name': 'Alice', 'city': 'New York'}"
   ]
  },
  {
   "cell_type": "code",
   "execution_count": 11,
   "id": "915b4514",
   "metadata": {},
   "outputs": [
    {
     "name": "stdout",
     "output_type": "stream",
     "text": [
      "('city', 'New York')\n",
      "{'name': 'Alice', 'age': 25}\n"
     ]
    }
   ],
   "source": [
    "# popitem()\n",
    "my_dict = {\"name\": \"Alice\", \"age\": 25, \"city\": \"New York\"}\n",
    "# create a dictionary\n",
    "my_item = my_dict.popitem() \n",
    "# remove and return an arbitrary key-value pair from the dictionary\n",
    "print(my_item) \n",
    "print(my_dict) "
   ]
  },
  {
   "cell_type": "code",
   "execution_count": 12,
   "id": "6f22a247",
   "metadata": {},
   "outputs": [
    {
     "name": "stdout",
     "output_type": "stream",
     "text": [
      "Alice\n",
      "{'name': 'Alice', 'age': 25, 'city': 'New York'}\n",
      "USA\n",
      "{'name': 'Alice', 'age': 25, 'city': 'New York', 'country': 'USA'}\n"
     ]
    }
   ],
   "source": [
    "# setdefault(key, default)\n",
    "my_dict = {\"name\": \"Alice\", \"age\": 25, \"city\": \"New York\"} \n",
    "# create a dictionary\n",
    "my_name = my_dict.setdefault(\"name\", \"Bob\") \n",
    "# get the value for the key \"name\" or set it to the default value \"Bob\"\n",
    "print(my_name) \n",
    "print(my_dict) \n",
    "my_country = my_dict.setdefault(\"country\", \"USA\") \n",
    "# get the value for the key \"country\" or set it to the default value \"USA\"\n",
    "print(my_country) \n",
    "print(my_dict) "
   ]
  },
  {
   "cell_type": "code",
   "execution_count": 13,
   "id": "376b5f89",
   "metadata": {},
   "outputs": [
    {
     "name": "stdout",
     "output_type": "stream",
     "text": [
      "{'name': 'Bob', 'age': 25, 'city': 'New York', 'gender': 'male', 'occupation': 'teacher'}\n"
     ]
    }
   ],
   "source": [
    "# update(other)\n",
    "my_dict = {\"name\": \"Alice\", \"age\": 25, \"city\": \"New York\"} \n",
    "# create a dictionary\n",
    "my_other = {\"name\": \"Bob\", \"gender\": \"male\", \"occupation\": \"teacher\"} \n",
    "# create another dictionary\n",
    "my_dict.update(my_other) \n",
    "# update the dictionary with the key-value pairs from another dictionary\n",
    "print(my_dict) "
   ]
  },
  {
   "cell_type": "code",
   "execution_count": 14,
   "id": "63a887b2",
   "metadata": {},
   "outputs": [
    {
     "name": "stdout",
     "output_type": "stream",
     "text": [
      "dict_values(['Alice', 25, 'New York'])\n",
      "Alice\n",
      "25\n",
      "New York\n"
     ]
    }
   ],
   "source": [
    "# values()\n",
    "my_dict = {\"name\": \"Alice\", \"age\": 25, \"city\": \"New York\"} \n",
    "# create a dictionary\n",
    "my_values = my_dict.values() \n",
    "# get a view object that contains the values of the dictionary\n",
    "print(my_values) \n",
    "for value in my_values: # iterate over the values\n",
    "    print(value)\n"
   ]
  },
  {
   "cell_type": "code",
   "execution_count": 15,
   "id": "7a7c25c7",
   "metadata": {},
   "outputs": [
    {
     "name": "stdout",
     "output_type": "stream",
     "text": [
      "3\n"
     ]
    }
   ],
   "source": [
    "# __len__()\n",
    "my_dict = {\"name\": \"Alice\", \"age\": 25, \"city\": \"New York\"} \n",
    "# create a dictionary\n",
    "my_len = my_dict.__len__() \n",
    "# get the number of key-value pairs in the dictionary\n",
    "print(my_len) # 3"
   ]
  },
  {
   "cell_type": "code",
   "execution_count": 16,
   "id": "7b4f63d8",
   "metadata": {},
   "outputs": [
    {
     "name": "stdout",
     "output_type": "stream",
     "text": [
      "Alice\n"
     ]
    }
   ],
   "source": [
    "# __getitem__(key)\n",
    "my_dict = {\"name\": \"Alice\", \"age\": 25, \"city\": \"New York\"} \n",
    "# create a dictionary\n",
    "my_name = my_dict.__getitem__(\"name\") \n",
    "# get the value for the key \"name\"\n",
    "print(my_name) "
   ]
  },
  {
   "cell_type": "code",
   "execution_count": 17,
   "id": "e22e8510",
   "metadata": {},
   "outputs": [
    {
     "name": "stdout",
     "output_type": "stream",
     "text": [
      "{'name': 'Bob', 'age': 25, 'city': 'New York'}\n"
     ]
    }
   ],
   "source": [
    "# __setitem__(key, value)\n",
    "my_dict = {\"name\": \"Alice\", \"age\": 25, \"city\": \"New York\"} \n",
    "# create a dictionary\n",
    "my_dict.__setitem__(\"name\", \"Bob\") \n",
    "# set the value for the key \"name\" to \"Bob\"\n",
    "print(my_dict) "
   ]
  },
  {
   "cell_type": "code",
   "execution_count": 18,
   "id": "7ae46495",
   "metadata": {},
   "outputs": [
    {
     "name": "stdout",
     "output_type": "stream",
     "text": [
      "{'name': 'Alice', 'city': 'New York'}\n"
     ]
    }
   ],
   "source": [
    "# __delitem__(key)\n",
    "my_dict = {\"name\": \"Alice\", \"age\": 25, \"city\": \"New York\"} \n",
    "# create a dictionary\n",
    "my_dict.__delitem__(\"age\") \n",
    "# delete the key-value pair for the key \"age\"\n",
    "print(my_dict) \n"
   ]
  },
  {
   "cell_type": "code",
   "execution_count": 19,
   "id": "59cbec5d",
   "metadata": {},
   "outputs": [
    {
     "name": "stdout",
     "output_type": "stream",
     "text": [
      "True\n"
     ]
    }
   ],
   "source": [
    "# __contains__(key)\n",
    "my_dict = {\"name\": \"Alice\", \"age\": 25, \"city\": \"New York\"} \n",
    "# create a dictionary\n",
    "my_bool = my_dict.__contains__(\"name\") \n",
    "# check if the dictionary contains the key \"name\"\n",
    "print(my_bool) "
   ]
  },
  {
   "cell_type": "code",
   "execution_count": 20,
   "id": "c79fe131",
   "metadata": {},
   "outputs": [
    {
     "name": "stdout",
     "output_type": "stream",
     "text": [
      "['name', 'age', 'city']\n"
     ]
    }
   ],
   "source": [
    "# __iter__()\n",
    "my_dict = {\"name\": \"Alice\", \"age\": 25, \"city\": \"New York\"} \n",
    "# create a dictionary\n",
    "my_iter = my_dict.__iter__() \n",
    "# get an iterator over the keys of the dictionary\n",
    "print(list(my_iter)) \n"
   ]
  },
  {
   "cell_type": "code",
   "execution_count": 21,
   "id": "b9e29021",
   "metadata": {},
   "outputs": [
    {
     "name": "stdout",
     "output_type": "stream",
     "text": [
      "{'name': 'Alice', 'age': 25, 'city': 'New York'}\n"
     ]
    }
   ],
   "source": [
    "# __repr__()\n",
    "my_dict = {\"name\": \"Alice\", \"age\": 25, \"city\": \"New York\"} \n",
    "# create a dictionary\n",
    "my_str = my_dict.__repr__() \n",
    "# get a string representation of the dictionary\n",
    "print(my_str) "
   ]
  },
  {
   "cell_type": "code",
   "execution_count": 22,
   "id": "b4b2b3b8",
   "metadata": {},
   "outputs": [
    {
     "name": "stdout",
     "output_type": "stream",
     "text": [
      "True\n"
     ]
    }
   ],
   "source": [
    "# __eq__(other)\n",
    "my_dict = {\"name\": \"Alice\", \"age\": 25, \"city\": \"New York\"} \n",
    "# create a dictionary\n",
    "my_other = {\"name\": \"Alice\", \"age\": 25, \"city\": \"New York\"} \n",
    "# create another dictionary\n",
    "my_bool = my_dict.__eq__(my_other) \n",
    "# check if the dictionary is equal to another dictionary\n",
    "print(my_bool) "
   ]
  },
  {
   "cell_type": "code",
   "execution_count": 25,
   "id": "f0d42000",
   "metadata": {},
   "outputs": [
    {
     "name": "stdout",
     "output_type": "stream",
     "text": [
      "4018882515726518266\n"
     ]
    }
   ],
   "source": [
    "# __hash__()\n",
    "my_dict =  frozenset({(\"name\", \"Alice\"), (\"age\", 25), (\"city\", \"New York\")})\n",
    "# create a hashable dictionary\n",
    "my_hash = my_dict.__hash__() # get the hash value of the dictionary\n",
    "print(my_hash) "
   ]
  },
  {
   "cell_type": "code",
   "execution_count": null,
   "id": "2ce39b5b",
   "metadata": {},
   "outputs": [],
   "source": []
  }
 ],
 "metadata": {
  "kernelspec": {
   "display_name": "Python 3 (ipykernel)",
   "language": "python",
   "name": "python3"
  },
  "language_info": {
   "codemirror_mode": {
    "name": "ipython",
    "version": 3
   },
   "file_extension": ".py",
   "mimetype": "text/x-python",
   "name": "python",
   "nbconvert_exporter": "python",
   "pygments_lexer": "ipython3",
   "version": "3.11.5"
  }
 },
 "nbformat": 4,
 "nbformat_minor": 5
}

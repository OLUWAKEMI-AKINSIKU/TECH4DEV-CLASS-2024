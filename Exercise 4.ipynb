{
 "cells": [
  {
   "cell_type": "markdown",
   "id": "61d16758",
   "metadata": {},
   "source": [
    "# Write a program to produce the following output using for loop\n",
    "+----+\n",
    "\\ /\n",
    "/ \\\n",
    "\\ /\n",
    "/ \\\n",
    "\\ /\n",
    "/ \\\n",
    "+----+"
   ]
  },
  {
   "cell_type": "code",
   "execution_count": 13,
   "id": "fce2c197",
   "metadata": {},
   "outputs": [
    {
     "name": "stdout",
     "output_type": "stream",
     "text": [
      "+----+\n",
      "\\ /\n",
      "/ \\\n",
      "\\ /\n",
      "/ \\\n",
      "\\ /\n",
      "/ \\\n",
      "+----+\n"
     ]
    }
   ],
   "source": [
    "# Define the number of lines to print\n",
    "n = 6\n",
    "\n",
    "# Print the top border\n",
    "print(\"+----+\")\n",
    "\n",
    "# Loop through each line\n",
    "for i in range(n):\n",
    "    # Print the slashes alternatively\n",
    "    if i % 2 == 0:\n",
    "        print(\"\\\\ /\")\n",
    "    else:\n",
    "        print(\"/ \\\\\")\n",
    "\n",
    "\n",
    "# Print the bottom border\n",
    "print(\"+----+\")\n"
   ]
  },
  {
   "cell_type": "markdown",
   "id": "895cf4e8",
   "metadata": {},
   "source": [
    "# Write a program to produce the following output using for loop\n",
    "**********\n",
    "**********\n",
    "**********\n",
    "**********\n",
    "**********"
   ]
  },
  {
   "cell_type": "code",
   "execution_count": 21,
   "id": "c3490c65",
   "metadata": {},
   "outputs": [
    {
     "name": "stdout",
     "output_type": "stream",
     "text": [
      "**********\n",
      "**********\n",
      "**********\n",
      "**********\n",
      "**********\n"
     ]
    }
   ],
   "source": [
    "# Define the number of rows and columns\n",
    "rows = 5\n",
    "cols = 10\n",
    "\n",
    "# Use a nested for loop to print the asterisks\n",
    "for i in range(rows):\n",
    "  for j in range(cols):\n",
    "    print(\"*\", end= \"\")\n",
    "  print ()"
   ]
  },
  {
   "cell_type": "markdown",
   "id": "b71e7a78",
   "metadata": {},
   "source": [
    "# Complete the code for the following for loop:\n",
    "for in range(1,7):\n",
    " //your code here\n",
    "so that it prints the following numbers, one per line:\n",
    "1 2 4 30 -7 97 -4\n",
    "2 4 19 20 -3 94 14\n",
    "3 6 34 10 1 91 32\n",
    "4 8 49 0 5 88 50\n",
    "5 10 64 -10 9 85 68\n",
    "6 12 79 -20 13 82 86"
   ]
  },
  {
   "cell_type": "code",
   "execution_count": 35,
   "id": "8cd5c10d",
   "metadata": {},
   "outputs": [
    {
     "name": "stdout",
     "output_type": "stream",
     "text": [
      "1 2 4 30 -7 97 -4\n",
      "2 4 19 20 -3 94 14\n",
      "3 6 34 10 1 91 32\n",
      "4 8 49 0 5 88 50\n",
      "5 10 64 -10 9 85 68\n",
      "6 12 79 -20 13 82 86\n"
     ]
    }
   ],
   "source": [
    "for i in range(1,7):\n",
    "  # The first number is i\n",
    "  print(i, end=\" \")\n",
    "  # The second number is 2*i\n",
    "  print(2*i, end=\" \")\n",
    "  # The third number is 15*i-11\n",
    "  print(15*i-11, end=\" \")\n",
    "  # The fourth number is -10*i + 40\n",
    "  print(-10*i + 40, end=\" \")\n",
    "  # The fifth number is 4*i - 11\n",
    "  print(4*i - 11, end=\" \")\n",
    "  # The sixth number is 100 - 3*i\n",
    "  print(100 - 3*i, end=\" \")\n",
    "  # The seventh number is 18*i - 22\n",
    "  print(18*i- 22)"
   ]
  },
  {
   "cell_type": "markdown",
   "id": "65668488",
   "metadata": {},
   "source": [
    "# Write a program to produce the following output using for loops. Then use a class constant to make it possible to change the number of lines in the figure.\n",
    "1\n",
    "22\n",
    "333\n",
    "4444\n",
    "55555\n",
    "666666\n",
    "7777777"
   ]
  },
  {
   "cell_type": "code",
   "execution_count": 36,
   "id": "5a2567e6",
   "metadata": {},
   "outputs": [
    {
     "name": "stdout",
     "output_type": "stream",
     "text": [
      "1\n",
      "22\n",
      "333\n",
      "4444\n",
      "55555\n",
      "666666\n",
      "7777777\n"
     ]
    }
   ],
   "source": [
    "# A class constant to control the number of lines\n",
    "LINES = 7\n",
    "\n",
    "# A for loop to iterate over the lines\n",
    "for i in range(1, LINES + 1):\n",
    "    # A for loop to print the digits in each line\n",
    "    for j in range(1, i + 1):\n",
    "        # Print the current line number without a newline\n",
    "        print(i, end=\"\")\n",
    "    # Print a newline after each line\n",
    "    print()\n"
   ]
  },
  {
   "cell_type": "markdown",
   "id": "0c091406",
   "metadata": {},
   "source": [
    "# Write a method named pay that accepts two parameters: a real number for a TA's salary, and an integer for the number of hours the TA worked this week. The method should return how much money to pay the TA. For example, the call pay(5.50, 6) should return 33.0. The TA should receive \"overtime\" pay of 1 ½ normal salary for any hours above 8. For example, the call pay(4.00, 11) should return (4.00 * 8) + (6.00 * 3) or 50.0."
   ]
  },
  {
   "cell_type": "code",
   "execution_count": 44,
   "id": "47de91a4",
   "metadata": {},
   "outputs": [
    {
     "name": "stdout",
     "output_type": "stream",
     "text": [
      "33.0\n",
      "50.0\n"
     ]
    }
   ],
   "source": [
    "# Define a function named pay that takes two parameters: salary and hours\n",
    "def pay(salary, hours):\n",
    "  # Initialize the total pay to zero\n",
    "  total_pay = 0\n",
    "  # Check if the hours are more than 8\n",
    "  if hours > 8:\n",
    "    # Calculate the overtime pay as 1.5 times the salary for the extra hours\n",
    "    overtime_pay = 1.5 * salary * (hours - 8)\n",
    "    # Add the overtime pay to the total pay\n",
    "    total_pay += overtime_pay\n",
    "    # Reduce the hours to 8\n",
    "    hours = 8\n",
    "  # Calculate the regular pay as the salary times the hours\n",
    "  regular_pay = salary * hours\n",
    "  # Add the regular pay to the total pay\n",
    "  total_pay += regular_pay\n",
    "  # Return the total pay\n",
    "  return total_pay\n",
    "\n",
    "# Test the function with some examples\n",
    "print(pay(5.50, 6)) # Should print 33.0\n",
    "print(pay(4.00, 11)) # Should print 50.0\n"
   ]
  },
  {
   "cell_type": "markdown",
   "id": "ef431f48",
   "metadata": {},
   "source": [
    "# Consider the following method for converting milliseconds into days: // converts milliseconds to days def toDays(millis): return millis / 1000.0 / 60.0 / 60.0 / 24.0. Write a similar method named area that takes as a parameter the radius of a circle and that returns the area of the circle. For example, the call area(2.0); should return 12.566370614359172. Recall that area can be computed as π times the radius squared and that Python has a constant called math.pi"
   ]
  },
  {
   "cell_type": "code",
   "execution_count": 45,
   "id": "42807fcf",
   "metadata": {},
   "outputs": [
    {
     "name": "stdout",
     "output_type": "stream",
     "text": [
      "12.566370614359172\n"
     ]
    }
   ],
   "source": [
    "# imports the math module\n",
    "import math\n",
    "\n",
    "# defines a function named area that takes a parameter named radius\n",
    "def area(radius):\n",
    "  # returns the area of the circle using the formula pi * radius^2\n",
    "  return math.pi * radius ** 2\n",
    "\n",
    "# tests the function with an example\n",
    "print(area(2.0))\n"
   ]
  },
  {
   "cell_type": "markdown",
   "id": "a22dfd27",
   "metadata": {},
   "source": [
    "# Copy and paste the following code into pythons IDLE script environment.\n",
    " low = 1\n",
    " high = 1001\n",
    " sum = 0\n",
    " for i in range(low,high):\n",
    " sum += i\n",
    " \n",
    " print(\"sum = \" , sum)\n",
    " \n",
    "Modify the code to use a input to prompt the user for the values of low\n",
    "and high. Below is a sample execution in which the user asks for the same \n",
    "values as in the original program (1 through 1000):\n",
    "low? 1\n",
    "high? 1001\n",
    "sum = 500500\n",
    "Below is an execution with different values for low and high:\n",
    "low? 300\n",
    "high? 5298\n",
    "sum = 13986903\n",
    "You should exactly reproduce this format"
   ]
  },
  {
   "cell_type": "code",
   "execution_count": null,
   "id": "e2b19f16",
   "metadata": {},
   "outputs": [],
   "source": [
    "# prompt the user for the values of low and high\n",
    "low = int(input(\"low? \"))\n",
    "high = int(input(\"high? \"))\n",
    "\n",
    "# initialize the sum to zero\n",
    "sum = 0\n",
    "\n",
    "# loop from low to high, excluding high\n",
    "for i in range(low,high):\n",
    "  # add the current value of i to the sum\n",
    "  sum += i\n",
    "\n",
    "# print the sum\n",
    "print(\"sum = \" , sum)\n"
   ]
  },
  {
   "cell_type": "markdown",
   "id": "9a167f74",
   "metadata": {},
   "source": [
    "# Write a program using while loop that prompts the user for numbers until the user types 0, then outputs their sum"
   ]
  },
  {
   "cell_type": "code",
   "execution_count": null,
   "id": "77e4fd8b",
   "metadata": {},
   "outputs": [],
   "source": [
    "# initialize the sum variable\n",
    "sum = 0\n",
    "\n",
    "# prompt the user for a number\n",
    "num = int(input(\"Enter a number (0 to stop): \"))\n",
    "\n",
    "# use a while loop to keep asking for numbers until the user types 0\n",
    "while num != 0:\n",
    "  # add the number to the sum\n",
    "  sum += num\n",
    "  # prompt the user for another number\n",
    "  num = int(input(\"Enter another number (0 to stop): \"))\n",
    "\n",
    "# output the sum\n",
    "print(\"The sum of the numbers is\", sum)\n"
   ]
  },
  {
   "cell_type": "markdown",
   "id": "331ed299",
   "metadata": {},
   "source": [
    "# Write a program using while loop that prompts the user for numbers until the user types -1, then outputs their sum."
   ]
  },
  {
   "cell_type": "code",
   "execution_count": null,
   "id": "6c20dc50",
   "metadata": {},
   "outputs": [],
   "source": [
    "# initialize the sum variable\n",
    "sum = 0\n",
    "\n",
    "# prompt the user for a number\n",
    "num = int(input(\"Enter a number (-1 to stop): \"))\n",
    "\n",
    "# use a while loop to keep asking for numbers until the user types -1\n",
    "while num != -1:\n",
    "  # add the number to the sum\n",
    "  sum += num\n",
    "  # prompt the user for another number\n",
    "  num = int(input(\"Enter another number (-1 to stop): \"))\n",
    "\n",
    "# output the sum\n",
    "print(\"The sum of the numbers is\", sum)\n"
   ]
  },
  {
   "cell_type": "markdown",
   "id": "0ef5b0ba",
   "metadata": {},
   "source": [
    "# Write a python method named repl that accepts a String and a number of repetitions as parameters and returns the String concatenated that many times. For example, the call repl(\"hello\", 3) returns \"hellohellohello\". If the number of repetitions is 0 or less, an empty string is returned."
   ]
  },
  {
   "cell_type": "code",
   "execution_count": null,
   "id": "2f270c97",
   "metadata": {},
   "outputs": [],
   "source": [
    "def repl(string, repetitions):\n",
    "    # Check if repetitions is a positive integer\n",
    "    if isinstance(repetitions, int) and repetitions > 0:\n",
    "        # Concatenate the string that many times\n",
    "        return string * repetitions\n",
    "    else:\n",
    "        # Return an empty string\n",
    "        return \"\"\n"
   ]
  },
  {
   "cell_type": "markdown",
   "id": "1de2569e",
   "metadata": {},
   "source": [
    "# Write a python method called printRange that accepts two integers as arguments and prints the sequence of numbers between the two arguments, separated by spaces. Print an increasing sequence if the first argument is smaller than the second; otherwise, print a decreasing sequence. If the two numbers are the same, that number should be printed by itself. Here are some sample calls to printRange: \n",
    "printRange(2, 7)\n",
    "printRange(19, 11)\n",
    "printRange(5, 5)\n",
    "The output produced should be the following: \n",
    "2 3 4 5 6 7 \n",
    "19 18 17 16 15 14 13 12 11 \n",
    "5"
   ]
  },
  {
   "cell_type": "code",
   "execution_count": 48,
   "id": "4e43acab",
   "metadata": {},
   "outputs": [
    {
     "name": "stdout",
     "output_type": "stream",
     "text": [
      "2 3 4 5 6 7 \n",
      "19 18 17 16 15 14 13 12 11 \n",
      "5\n"
     ]
    }
   ],
   "source": [
    "# define the printRange function\n",
    "def printRange(a, b):\n",
    "  # check if the arguments are integers\n",
    "  if type(a) == int and type(b) == int:\n",
    "    # if the first argument is smaller than the second, print an increasing sequence\n",
    "    if a < b:\n",
    "      for i in range(a, b + 1):\n",
    "        print(i, end=\" \")\n",
    "      print() # print a newline\n",
    "    # if the first argument is larger than the second, print a decreasing sequence\n",
    "    elif a > b:\n",
    "      for i in range(a, b - 1, -1):\n",
    "        print(i, end=\" \")\n",
    "      print() # print a newline\n",
    "    # if the arguments are equal, print that number by itself\n",
    "    else:\n",
    "      print(a)\n",
    "  # if the arguments are not integers, print an error message\n",
    "  else:\n",
    "    print(\"Invalid arguments. Please enter two integers.\")\n",
    "\n",
    "# test the printRange function with some sample calls\n",
    "printRange(2, 7)\n",
    "printRange(19, 11)\n",
    "printRange(5, 5)\n"
   ]
  },
  {
   "cell_type": "markdown",
   "id": "cb605689",
   "metadata": {},
   "source": [
    "# Write a method named smallestLargest that asks the user to enter numbers, then prints the smallest and largest of all the numbers typed in by the user. You may assume the user enters a valid number greater than 0 for the number of numbers to read. Here is an example dialogue: \n",
    "How many numbers do you want to enter? 4\n",
    "Number 1: 5\n",
    "Number 2: 11\n",
    "Number 3: -2\n",
    "Number 4: 3\n",
    "Smallest = -2\n",
    "Largest = 11\n"
   ]
  },
  {
   "cell_type": "code",
   "execution_count": 1,
   "id": "a8d32de8",
   "metadata": {},
   "outputs": [],
   "source": [
    "def smallestLargest():\n",
    "  # Ask the user how many numbers they want to enter\n",
    "  n = int(input(\"How many numbers do you want to enter? \"))\n",
    "  # Initialize the smallest and largest variables with the first number\n",
    "  smallest = largest = int(input(\"Number 1: \"))\n",
    "  # Loop through the remaining numbers and update the smallest and largest variables\n",
    "  for i in range(2, n + 1):\n",
    "    number = int(input(f\"Number {i}: \"))\n",
    "    if number < smallest:\n",
    "      smallest = number\n",
    "    if number > largest:\n",
    "      largest = number\n",
    "  # Print the smallest and largest numbers\n",
    "  print(f\"Smallest = {smallest}\")\n",
    "  print(f\"Largest = {largest}\")\n"
   ]
  },
  {
   "cell_type": "markdown",
   "id": "cba867f8",
   "metadata": {},
   "source": [
    "# Write a method called printAverage that uses a sentinel loop to repeatedly prompt the user for numbers. Once the user types any number less than zero, the method should display the average of all nonnegative numbers typed. Display the average as a double. Here is a sample dialogue with the user:\n",
    "Type a number: 7\n",
    "Type a number: 4\n",
    "Type a number: 16\n",
    "Type a number: –4\n",
    "Average was 9.0\n",
    "If the first number that the user types is negative, do not print an average:\n",
    "Type a number: –2\n"
   ]
  },
  {
   "cell_type": "code",
   "execution_count": null,
   "id": "2e9a831d",
   "metadata": {},
   "outputs": [],
   "source": [
    "# Define a method called printAverage\n",
    "def printAverage():\n",
    "  # Initialize the sum and count variables to zero\n",
    "  sum = 0\n",
    "  count = 0\n",
    "  # Prompt the user for the first number\n",
    "  num = float(input(\"Type a number: \"))\n",
    "  # Use a sentinel loop to repeat until the user types a negative number\n",
    "  while num >= 0:\n",
    "    # Add the number to the sum and increment the count\n",
    "    sum += num\n",
    "    count += 1\n",
    "    # Prompt the user for the next number\n",
    "    num = float(input(\"Type a number: \"))\n",
    "  # If the count is positive, calculate and display the average as a double\n",
    "  if count > 0:\n",
    "    average = sum / count\n",
    "    print(\"Average was\", average)\n",
    "  # Otherwise, do not print anything\n",
    "    print (\"Average\")"
   ]
  },
  {
   "cell_type": "markdown",
   "id": "8c82d134",
   "metadata": {},
   "source": [
    "# Write a method named numUnique that takes three integers as parameters and returns the number of unique integers among the three. For example, the call numUnique(18, 3, 4) should return 3 because the parameters have three different values. By contrast, the call numUnique(6, 7, 6) should return 2 because there are only two unique numbers among the three parameters: 6 and 7."
   ]
  },
  {
   "cell_type": "code",
   "execution_count": 4,
   "id": "49633e19",
   "metadata": {},
   "outputs": [
    {
     "name": "stdout",
     "output_type": "stream",
     "text": [
      "3\n",
      "2\n",
      "1\n"
     ]
    }
   ],
   "source": [
    "def numUnique(a, b, c):\n",
    "  # create a set from the parameters\n",
    "  s = set([a, b, c])\n",
    "  # return the size of the set\n",
    "  return len(s)\n",
    "\n",
    "\n",
    "print(numUnique(18, 3, 4)) # prints 3\n",
    "print(numUnique(6, 7, 6)) # prints 2\n",
    "print(numUnique(1, 1, 1)) # prints 1\n",
    "\n"
   ]
  },
  {
   "cell_type": "markdown",
   "id": "bfc8a734",
   "metadata": {},
   "source": [
    "# A Random object generates pseudo-random numbers. Find out how to use the Random class and write a python program that simulates rolling of two 6-sided dice until their combined result comes up as 7. One possible output can be seen as below:\n",
    "2 + 4 = 6\n",
    "3 + 5 = 8\n",
    "5 + 6 = 11\n",
    "1 + 1 = 2\n",
    "4 + 3 = 7\n",
    "You won after 5 tries!"
   ]
  },
  {
   "cell_type": "code",
   "execution_count": 13,
   "id": "1d13199c",
   "metadata": {},
   "outputs": [
    {
     "name": "stdout",
     "output_type": "stream",
     "text": [
      "1 + 5 = 6\n",
      "6 + 4 = 10\n",
      "1 + 1 = 2\n",
      "2 + 1 = 3\n",
      "5 + 3 = 8\n",
      "5 + 3 = 8\n",
      "1 + 1 = 2\n",
      "1 + 5 = 6\n",
      "1 + 3 = 4\n",
      "1 + 1 = 2\n",
      "4 + 6 = 10\n",
      "4 + 6 = 10\n",
      "6 + 1 = 7\n",
      "You won after 13 tries!\n"
     ]
    }
   ],
   "source": [
    "# Import the random module\n",
    "import random\n",
    "\n",
    "# Initialize the counter\n",
    "count = 0\n",
    "\n",
    "# Loop until the sum of the dice is 7\n",
    "while True:\n",
    "    # Generate two random numbers between 1 and 6\n",
    "    dice1 = random.randint(1, 6)\n",
    "    dice2 = random.randint(1, 6)\n",
    "\n",
    "    # Calculate the sum of the dice\n",
    "    sum = dice1 + dice2\n",
    "\n",
    "    # Increment the counter\n",
    "    count += 1\n",
    "\n",
    "    # Print the result of the roll\n",
    "    print(f\"{dice1} + {dice2} = {sum}\")\n",
    "\n",
    "    # Check if the sum is 7\n",
    "    if sum == 7:\n",
    "        # Break the loop\n",
    "        break\n",
    "\n",
    "# Print the final message\n",
    "print(f\"You won after {count} tries!\")\n"
   ]
  }
 ],
 "metadata": {
  "kernelspec": {
   "display_name": "Python 3 (ipykernel)",
   "language": "python",
   "name": "python3"
  },
  "language_info": {
   "codemirror_mode": {
    "name": "ipython",
    "version": 3
   },
   "file_extension": ".py",
   "mimetype": "text/x-python",
   "name": "python",
   "nbconvert_exporter": "python",
   "pygments_lexer": "ipython3",
   "version": "3.11.5"
  }
 },
 "nbformat": 4,
 "nbformat_minor": 5
}

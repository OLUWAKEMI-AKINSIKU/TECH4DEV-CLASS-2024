{
 "cells": [
  {
   "cell_type": "markdown",
   "id": "a2063429",
   "metadata": {},
   "source": [
    "# Print the First 10 natural numbers"
   ]
  },
  {
   "cell_type": "code",
   "execution_count": 1,
   "id": "495c808f",
   "metadata": {},
   "outputs": [
    {
     "name": "stdout",
     "output_type": "stream",
     "text": [
      "1 2 3 4 5 6 7 8 9 10 "
     ]
    }
   ],
   "source": [
    "num = 10\n",
    "for i in range(1, num + 1):\n",
    "    print(i, end=\" \")"
   ]
  },
  {
   "cell_type": "markdown",
   "id": "1c9d6e44",
   "metadata": {},
   "source": [
    "# print(\"====The First 10 Natural Numbers====\")"
   ]
  },
  {
   "cell_type": "code",
   "execution_count": 2,
   "id": "0e147b50",
   "metadata": {},
   "outputs": [
    {
     "name": "stdout",
     "output_type": "stream",
     "text": [
      "1 2 3 4 5 6 7 8 9 10 "
     ]
    }
   ],
   "source": [
    "i = 1\n",
    "while i <= 10:\n",
    "    print(i, end=\" \")\n",
    "    i += 1\n"
   ]
  },
  {
   "cell_type": "markdown",
   "id": "2f9d7167",
   "metadata": {},
   "source": [
    "# Count the total number of digits in a number"
   ]
  },
  {
   "cell_type": "code",
   "execution_count": 3,
   "id": "49677da7",
   "metadata": {},
   "outputs": [
    {
     "name": "stdout",
     "output_type": "stream",
     "text": [
      "3\n",
      "4\n",
      "1\n"
     ]
    }
   ],
   "source": [
    "def count_digits(num):\n",
    "    return len(num) \n",
    "# convert the number to a string and get its length\n",
    "\n",
    "# test the function\n",
    "print(count_digits(123)) \n",
    "print(count_digits(4567)) \n",
    "print(count_digits(0)) \n"
   ]
  },
  {
   "cell_type": "markdown",
   "id": "f25381db",
   "metadata": {},
   "source": [
    "# Write a program to display all prime numbers within a range\n"
   ]
  },
  {
   "cell_type": "code",
   "execution_count": 6,
   "id": "41c94e00",
   "metadata": {},
   "outputs": [
    {
     "name": "stdout",
     "output_type": "stream",
     "text": [
      "Enter the lower limit: 10\n",
      "Enter the upper limit: 100\n",
      "Prime numbers between 10 and 100 are:\n",
      "11 13 17 19 23 29 31 37 41 43 47 53 59 61 67 71 73 79 83 89 97 "
     ]
    }
   ],
   "source": [
    "# Python program to display all prime numbers within a range\n",
    "\n",
    "# take the lower and upper limit of the range as input\n",
    "lower = int(input(\"Enter the lower limit: \"))\n",
    "upper = int(input(\"Enter the upper limit: \"))\n",
    "\n",
    "# print a message\n",
    "print(f\"Prime numbers between {lower} and {upper} are:\")\n",
    "\n",
    "# loop through each number in the range\n",
    "for num in range(lower, upper + 1):\n",
    "    # skip 0 and 1 as they are not prime\n",
    "    if num > 1:\n",
    "        # assume the number is prime\n",
    "        is_prime = True\n",
    "        # loop from 2 to the square root of the number\n",
    "        for i in range(2, int(num ** 0.5) + 1):\n",
    "            # if the number is divisible by i, it is not prime\n",
    "            if num % i == 0:\n",
    "                is_prime = False\n",
    "                # break out of the loop\n",
    "                break\n",
    "        # if the number is prime, print it\n",
    "        if is_prime:\n",
    "            print(num, end=\" \")\n"
   ]
  },
  {
   "cell_type": "markdown",
   "id": "6b71d9fd",
   "metadata": {},
   "source": [
    "# Write a program to print a multiplication table of a given number"
   ]
  },
  {
   "cell_type": "code",
   "execution_count": 5,
   "id": "e50b5116",
   "metadata": {},
   "outputs": [
    {
     "name": "stdout",
     "output_type": "stream",
     "text": [
      "Enter the number: 10\n",
      "Multiplication table of 10 is:\n",
      "10 x 1 = 10\n",
      "10 x 2 = 20\n",
      "10 x 3 = 30\n",
      "10 x 4 = 40\n",
      "10 x 5 = 50\n",
      "10 x 6 = 60\n",
      "10 x 7 = 70\n",
      "10 x 8 = 80\n",
      "10 x 9 = 90\n",
      "10 x 10 = 100\n"
     ]
    }
   ],
   "source": [
    "# Python program to print a multiplication table of a given number\n",
    "\n",
    "# take the number as input\n",
    "num = int(input(\"Enter the number: \"))\n",
    "\n",
    "# print a message\n",
    "print(f\"Multiplication table of {num} is:\")\n",
    "\n",
    "# loop from 1 to 10\n",
    "for i in range(1, 11):\n",
    "    # print the product of the number and i\n",
    "    print(num, \"x\", i, \"=\", num * i)\n"
   ]
  },
  {
   "cell_type": "code",
   "execution_count": null,
   "id": "e3a26270",
   "metadata": {},
   "outputs": [],
   "source": []
  }
 ],
 "metadata": {
  "kernelspec": {
   "display_name": "Python 3 (ipykernel)",
   "language": "python",
   "name": "python3"
  },
  "language_info": {
   "codemirror_mode": {
    "name": "ipython",
    "version": 3
   },
   "file_extension": ".py",
   "mimetype": "text/x-python",
   "name": "python",
   "nbconvert_exporter": "python",
   "pygments_lexer": "ipython3",
   "version": "3.11.5"
  }
 },
 "nbformat": 4,
 "nbformat_minor": 5
}
